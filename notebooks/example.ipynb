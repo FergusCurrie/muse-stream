{
 "cells": [
  {
   "cell_type": "markdown",
   "id": "9e0c7611-4695-4454-84d9-333e8ff749ee",
   "metadata": {},
   "source": [
    "# Example data load with poetry packaging for easy pathing "
   ]
  },
  {
   "cell_type": "code",
   "execution_count": null,
   "id": "5781606f-9d63-46c3-975c-8d317fd47fcd",
   "metadata": {},
   "outputs": [],
   "source": [
    "\n",
    "from data_loader import load\n",
    "load(\"example.csv\")"
   ]
  }
 ],
 "metadata": {
  "kernelspec": {
   "display_name": "Python 3 (ipykernel)",
   "language": "python",
   "name": "python3"
  },
  "language_info": {
   "codemirror_mode": {
    "name": "ipython",
    "version": 3
   },
   "file_extension": ".py",
   "mimetype": "text/x-python",
   "name": "python",
   "nbconvert_exporter": "python",
   "pygments_lexer": "ipython3",
   "version": "3.12.2"
  }
 },
 "nbformat": 4,
 "nbformat_minor": 5
}
